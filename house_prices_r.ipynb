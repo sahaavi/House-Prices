{
 "cells": [
  {
   "cell_type": "markdown",
   "metadata": {},
   "source": [
    "### LOAD DATA"
   ]
  },
  {
   "cell_type": "code",
   "execution_count": 1,
   "metadata": {
    "vscode": {
     "languageId": "r"
    }
   },
   "outputs": [
    {
     "data": {
      "text/html": [
       "<table class=\"dataframe\">\n",
       "<caption>A data.frame: 3 × 81</caption>\n",
       "<thead>\n",
       "\t<tr><th></th><th scope=col>Id</th><th scope=col>MSSubClass</th><th scope=col>MSZoning</th><th scope=col>LotFrontage</th><th scope=col>LotArea</th><th scope=col>Street</th><th scope=col>Alley</th><th scope=col>LotShape</th><th scope=col>LandContour</th><th scope=col>Utilities</th><th scope=col>...</th><th scope=col>PoolArea</th><th scope=col>PoolQC</th><th scope=col>Fence</th><th scope=col>MiscFeature</th><th scope=col>MiscVal</th><th scope=col>MoSold</th><th scope=col>YrSold</th><th scope=col>SaleType</th><th scope=col>SaleCondition</th><th scope=col>SalePrice</th></tr>\n",
       "\t<tr><th></th><th scope=col>&lt;int&gt;</th><th scope=col>&lt;int&gt;</th><th scope=col>&lt;chr&gt;</th><th scope=col>&lt;int&gt;</th><th scope=col>&lt;int&gt;</th><th scope=col>&lt;chr&gt;</th><th scope=col>&lt;chr&gt;</th><th scope=col>&lt;chr&gt;</th><th scope=col>&lt;chr&gt;</th><th scope=col>&lt;chr&gt;</th><th scope=col>...</th><th scope=col>&lt;int&gt;</th><th scope=col>&lt;chr&gt;</th><th scope=col>&lt;chr&gt;</th><th scope=col>&lt;chr&gt;</th><th scope=col>&lt;int&gt;</th><th scope=col>&lt;int&gt;</th><th scope=col>&lt;int&gt;</th><th scope=col>&lt;chr&gt;</th><th scope=col>&lt;chr&gt;</th><th scope=col>&lt;int&gt;</th></tr>\n",
       "</thead>\n",
       "<tbody>\n",
       "\t<tr><th scope=row>1</th><td>1</td><td>60</td><td>RL</td><td>65</td><td> 8450</td><td>Pave</td><td>NA</td><td>Reg</td><td>Lvl</td><td>AllPub</td><td>...</td><td>0</td><td>NA</td><td>NA</td><td>NA</td><td>0</td><td>2</td><td>2008</td><td>WD</td><td>Normal</td><td>208500</td></tr>\n",
       "\t<tr><th scope=row>2</th><td>2</td><td>20</td><td>RL</td><td>80</td><td> 9600</td><td>Pave</td><td>NA</td><td>Reg</td><td>Lvl</td><td>AllPub</td><td>...</td><td>0</td><td>NA</td><td>NA</td><td>NA</td><td>0</td><td>5</td><td>2007</td><td>WD</td><td>Normal</td><td>181500</td></tr>\n",
       "\t<tr><th scope=row>3</th><td>3</td><td>60</td><td>RL</td><td>68</td><td>11250</td><td>Pave</td><td>NA</td><td>IR1</td><td>Lvl</td><td>AllPub</td><td>...</td><td>0</td><td>NA</td><td>NA</td><td>NA</td><td>0</td><td>9</td><td>2008</td><td>WD</td><td>Normal</td><td>223500</td></tr>\n",
       "</tbody>\n",
       "</table>\n"
      ],
      "text/latex": [
       "A data.frame: 3 × 81\n",
       "\\begin{tabular}{r|lllllllllllllllllllll}\n",
       "  & Id & MSSubClass & MSZoning & LotFrontage & LotArea & Street & Alley & LotShape & LandContour & Utilities & ... & PoolArea & PoolQC & Fence & MiscFeature & MiscVal & MoSold & YrSold & SaleType & SaleCondition & SalePrice\\\\\n",
       "  & <int> & <int> & <chr> & <int> & <int> & <chr> & <chr> & <chr> & <chr> & <chr> & ... & <int> & <chr> & <chr> & <chr> & <int> & <int> & <int> & <chr> & <chr> & <int>\\\\\n",
       "\\hline\n",
       "\t1 & 1 & 60 & RL & 65 &  8450 & Pave & NA & Reg & Lvl & AllPub & ... & 0 & NA & NA & NA & 0 & 2 & 2008 & WD & Normal & 208500\\\\\n",
       "\t2 & 2 & 20 & RL & 80 &  9600 & Pave & NA & Reg & Lvl & AllPub & ... & 0 & NA & NA & NA & 0 & 5 & 2007 & WD & Normal & 181500\\\\\n",
       "\t3 & 3 & 60 & RL & 68 & 11250 & Pave & NA & IR1 & Lvl & AllPub & ... & 0 & NA & NA & NA & 0 & 9 & 2008 & WD & Normal & 223500\\\\\n",
       "\\end{tabular}\n"
      ],
      "text/markdown": [
       "\n",
       "A data.frame: 3 × 81\n",
       "\n",
       "| <!--/--> | Id &lt;int&gt; | MSSubClass &lt;int&gt; | MSZoning &lt;chr&gt; | LotFrontage &lt;int&gt; | LotArea &lt;int&gt; | Street &lt;chr&gt; | Alley &lt;chr&gt; | LotShape &lt;chr&gt; | LandContour &lt;chr&gt; | Utilities &lt;chr&gt; | ... ... | PoolArea &lt;int&gt; | PoolQC &lt;chr&gt; | Fence &lt;chr&gt; | MiscFeature &lt;chr&gt; | MiscVal &lt;int&gt; | MoSold &lt;int&gt; | YrSold &lt;int&gt; | SaleType &lt;chr&gt; | SaleCondition &lt;chr&gt; | SalePrice &lt;int&gt; |\n",
       "|---|---|---|---|---|---|---|---|---|---|---|---|---|---|---|---|---|---|---|---|---|---|\n",
       "| 1 | 1 | 60 | RL | 65 |  8450 | Pave | NA | Reg | Lvl | AllPub | ... | 0 | NA | NA | NA | 0 | 2 | 2008 | WD | Normal | 208500 |\n",
       "| 2 | 2 | 20 | RL | 80 |  9600 | Pave | NA | Reg | Lvl | AllPub | ... | 0 | NA | NA | NA | 0 | 5 | 2007 | WD | Normal | 181500 |\n",
       "| 3 | 3 | 60 | RL | 68 | 11250 | Pave | NA | IR1 | Lvl | AllPub | ... | 0 | NA | NA | NA | 0 | 9 | 2008 | WD | Normal | 223500 |\n",
       "\n"
      ],
      "text/plain": [
       "  Id MSSubClass MSZoning LotFrontage LotArea Street Alley LotShape LandContour\n",
       "1 1  60         RL       65           8450   Pave   NA    Reg      Lvl        \n",
       "2 2  20         RL       80           9600   Pave   NA    Reg      Lvl        \n",
       "3 3  60         RL       68          11250   Pave   NA    IR1      Lvl        \n",
       "  Utilities ... PoolArea PoolQC Fence MiscFeature MiscVal MoSold YrSold\n",
       "1 AllPub    ... 0        NA     NA    NA          0       2      2008  \n",
       "2 AllPub    ... 0        NA     NA    NA          0       5      2007  \n",
       "3 AllPub    ... 0        NA     NA    NA          0       9      2008  \n",
       "  SaleType SaleCondition SalePrice\n",
       "1 WD       Normal        208500   \n",
       "2 WD       Normal        181500   \n",
       "3 WD       Normal        223500   "
      ]
     },
     "metadata": {},
     "output_type": "display_data"
    }
   ],
   "source": [
    "# load training data\n",
    "df_train <- read.csv(\"dataset/train.csv\")\n",
    "head(df_train, 3)"
   ]
  },
  {
   "cell_type": "code",
   "execution_count": 2,
   "metadata": {},
   "outputs": [
    {
     "data": {
      "text/html": [
       "<table class=\"dataframe\">\n",
       "<caption>A data.frame: 3 × 80</caption>\n",
       "<thead>\n",
       "\t<tr><th></th><th scope=col>Id</th><th scope=col>MSSubClass</th><th scope=col>MSZoning</th><th scope=col>LotFrontage</th><th scope=col>LotArea</th><th scope=col>Street</th><th scope=col>Alley</th><th scope=col>LotShape</th><th scope=col>LandContour</th><th scope=col>Utilities</th><th scope=col>...</th><th scope=col>ScreenPorch</th><th scope=col>PoolArea</th><th scope=col>PoolQC</th><th scope=col>Fence</th><th scope=col>MiscFeature</th><th scope=col>MiscVal</th><th scope=col>MoSold</th><th scope=col>YrSold</th><th scope=col>SaleType</th><th scope=col>SaleCondition</th></tr>\n",
       "\t<tr><th></th><th scope=col>&lt;int&gt;</th><th scope=col>&lt;int&gt;</th><th scope=col>&lt;chr&gt;</th><th scope=col>&lt;int&gt;</th><th scope=col>&lt;int&gt;</th><th scope=col>&lt;chr&gt;</th><th scope=col>&lt;chr&gt;</th><th scope=col>&lt;chr&gt;</th><th scope=col>&lt;chr&gt;</th><th scope=col>&lt;chr&gt;</th><th scope=col>...</th><th scope=col>&lt;int&gt;</th><th scope=col>&lt;int&gt;</th><th scope=col>&lt;chr&gt;</th><th scope=col>&lt;chr&gt;</th><th scope=col>&lt;chr&gt;</th><th scope=col>&lt;int&gt;</th><th scope=col>&lt;int&gt;</th><th scope=col>&lt;int&gt;</th><th scope=col>&lt;chr&gt;</th><th scope=col>&lt;chr&gt;</th></tr>\n",
       "</thead>\n",
       "<tbody>\n",
       "\t<tr><th scope=row>1</th><td>1461</td><td>20</td><td>RH</td><td>80</td><td>11622</td><td>Pave</td><td>NA</td><td>Reg</td><td>Lvl</td><td>AllPub</td><td>...</td><td>120</td><td>0</td><td>NA</td><td>MnPrv</td><td>NA  </td><td>    0</td><td>6</td><td>2010</td><td>WD</td><td>Normal</td></tr>\n",
       "\t<tr><th scope=row>2</th><td>1462</td><td>20</td><td>RL</td><td>81</td><td>14267</td><td>Pave</td><td>NA</td><td>IR1</td><td>Lvl</td><td>AllPub</td><td>...</td><td>  0</td><td>0</td><td>NA</td><td>NA   </td><td>Gar2</td><td>12500</td><td>6</td><td>2010</td><td>WD</td><td>Normal</td></tr>\n",
       "\t<tr><th scope=row>3</th><td>1463</td><td>60</td><td>RL</td><td>74</td><td>13830</td><td>Pave</td><td>NA</td><td>IR1</td><td>Lvl</td><td>AllPub</td><td>...</td><td>  0</td><td>0</td><td>NA</td><td>MnPrv</td><td>NA  </td><td>    0</td><td>3</td><td>2010</td><td>WD</td><td>Normal</td></tr>\n",
       "</tbody>\n",
       "</table>\n"
      ],
      "text/latex": [
       "A data.frame: 3 × 80\n",
       "\\begin{tabular}{r|lllllllllllllllllllll}\n",
       "  & Id & MSSubClass & MSZoning & LotFrontage & LotArea & Street & Alley & LotShape & LandContour & Utilities & ... & ScreenPorch & PoolArea & PoolQC & Fence & MiscFeature & MiscVal & MoSold & YrSold & SaleType & SaleCondition\\\\\n",
       "  & <int> & <int> & <chr> & <int> & <int> & <chr> & <chr> & <chr> & <chr> & <chr> & ... & <int> & <int> & <chr> & <chr> & <chr> & <int> & <int> & <int> & <chr> & <chr>\\\\\n",
       "\\hline\n",
       "\t1 & 1461 & 20 & RH & 80 & 11622 & Pave & NA & Reg & Lvl & AllPub & ... & 120 & 0 & NA & MnPrv & NA   &     0 & 6 & 2010 & WD & Normal\\\\\n",
       "\t2 & 1462 & 20 & RL & 81 & 14267 & Pave & NA & IR1 & Lvl & AllPub & ... &   0 & 0 & NA & NA    & Gar2 & 12500 & 6 & 2010 & WD & Normal\\\\\n",
       "\t3 & 1463 & 60 & RL & 74 & 13830 & Pave & NA & IR1 & Lvl & AllPub & ... &   0 & 0 & NA & MnPrv & NA   &     0 & 3 & 2010 & WD & Normal\\\\\n",
       "\\end{tabular}\n"
      ],
      "text/markdown": [
       "\n",
       "A data.frame: 3 × 80\n",
       "\n",
       "| <!--/--> | Id &lt;int&gt; | MSSubClass &lt;int&gt; | MSZoning &lt;chr&gt; | LotFrontage &lt;int&gt; | LotArea &lt;int&gt; | Street &lt;chr&gt; | Alley &lt;chr&gt; | LotShape &lt;chr&gt; | LandContour &lt;chr&gt; | Utilities &lt;chr&gt; | ... ... | ScreenPorch &lt;int&gt; | PoolArea &lt;int&gt; | PoolQC &lt;chr&gt; | Fence &lt;chr&gt; | MiscFeature &lt;chr&gt; | MiscVal &lt;int&gt; | MoSold &lt;int&gt; | YrSold &lt;int&gt; | SaleType &lt;chr&gt; | SaleCondition &lt;chr&gt; |\n",
       "|---|---|---|---|---|---|---|---|---|---|---|---|---|---|---|---|---|---|---|---|---|---|\n",
       "| 1 | 1461 | 20 | RH | 80 | 11622 | Pave | NA | Reg | Lvl | AllPub | ... | 120 | 0 | NA | MnPrv | NA   |     0 | 6 | 2010 | WD | Normal |\n",
       "| 2 | 1462 | 20 | RL | 81 | 14267 | Pave | NA | IR1 | Lvl | AllPub | ... |   0 | 0 | NA | NA    | Gar2 | 12500 | 6 | 2010 | WD | Normal |\n",
       "| 3 | 1463 | 60 | RL | 74 | 13830 | Pave | NA | IR1 | Lvl | AllPub | ... |   0 | 0 | NA | MnPrv | NA   |     0 | 3 | 2010 | WD | Normal |\n",
       "\n"
      ],
      "text/plain": [
       "  Id   MSSubClass MSZoning LotFrontage LotArea Street Alley LotShape\n",
       "1 1461 20         RH       80          11622   Pave   NA    Reg     \n",
       "2 1462 20         RL       81          14267   Pave   NA    IR1     \n",
       "3 1463 60         RL       74          13830   Pave   NA    IR1     \n",
       "  LandContour Utilities ... ScreenPorch PoolArea PoolQC Fence MiscFeature\n",
       "1 Lvl         AllPub    ... 120         0        NA     MnPrv NA         \n",
       "2 Lvl         AllPub    ...   0         0        NA     NA    Gar2       \n",
       "3 Lvl         AllPub    ...   0         0        NA     MnPrv NA         \n",
       "  MiscVal MoSold YrSold SaleType SaleCondition\n",
       "1     0   6      2010   WD       Normal       \n",
       "2 12500   6      2010   WD       Normal       \n",
       "3     0   3      2010   WD       Normal       "
      ]
     },
     "metadata": {},
     "output_type": "display_data"
    }
   ],
   "source": [
    "# load testing data\n",
    "df_test <- read.csv(\"dataset/test.csv\")\n",
    "head(df_test, 3)"
   ]
  },
  {
   "cell_type": "markdown",
   "metadata": {},
   "source": [
    "### EXPLORATORY ANALYSIS"
   ]
  },
  {
   "cell_type": "code",
   "execution_count": 3,
   "metadata": {},
   "outputs": [
    {
     "data": {
      "text/html": [
       "<style>\n",
       ".list-inline {list-style: none; margin:0; padding: 0}\n",
       ".list-inline>li {display: inline-block}\n",
       ".list-inline>li:not(:last-child)::after {content: \"\\00b7\"; padding: 0 .5ex}\n",
       "</style>\n",
       "<ol class=list-inline><li>1460</li><li>81</li></ol>\n"
      ],
      "text/latex": [
       "\\begin{enumerate*}\n",
       "\\item 1460\n",
       "\\item 81\n",
       "\\end{enumerate*}\n"
      ],
      "text/markdown": [
       "1. 1460\n",
       "2. 81\n",
       "\n",
       "\n"
      ],
      "text/plain": [
       "[1] 1460   81"
      ]
     },
     "metadata": {},
     "output_type": "display_data"
    }
   ],
   "source": [
    "# no. of rows and columns\n",
    "dim(df_train)"
   ]
  },
  {
   "cell_type": "code",
   "execution_count": 4,
   "metadata": {},
   "outputs": [
    {
     "data": {
      "text/html": [
       "690"
      ],
      "text/latex": [
       "690"
      ],
      "text/markdown": [
       "690"
      ],
      "text/plain": [
       "[1] 690"
      ]
     },
     "metadata": {},
     "output_type": "display_data"
    }
   ],
   "source": [
    "sum(is.na(df_train$FireplaceQu))"
   ]
  },
  {
   "cell_type": "code",
   "execution_count": 7,
   "metadata": {},
   "outputs": [
    {
     "data": {
      "text/html": [
       "<style>\n",
       ".dl-inline {width: auto; margin:0; padding: 0}\n",
       ".dl-inline>dt, .dl-inline>dd {float: none; width: auto; display: inline-block}\n",
       ".dl-inline>dt::after {content: \":\\0020\"; padding-right: .5ex}\n",
       ".dl-inline>dt:not(:first-of-type) {padding-left: .5ex}\n",
       "</style><dl class=dl-inline><dt>Id</dt><dd>0</dd><dt>MSSubClass</dt><dd>0</dd><dt>MSZoning</dt><dd>0</dd><dt>LotArea</dt><dd>0</dd><dt>Street</dt><dd>0</dd><dt>LotShape</dt><dd>0</dd><dt>LandContour</dt><dd>0</dd><dt>Utilities</dt><dd>0</dd><dt>LotConfig</dt><dd>0</dd><dt>LandSlope</dt><dd>0</dd><dt>Neighborhood</dt><dd>0</dd><dt>Condition1</dt><dd>0</dd><dt>Condition2</dt><dd>0</dd><dt>BldgType</dt><dd>0</dd><dt>HouseStyle</dt><dd>0</dd><dt>OverallQual</dt><dd>0</dd><dt>OverallCond</dt><dd>0</dd><dt>YearBuilt</dt><dd>0</dd><dt>YearRemodAdd</dt><dd>0</dd><dt>RoofStyle</dt><dd>0</dd><dt>RoofMatl</dt><dd>0</dd><dt>Exterior1st</dt><dd>0</dd><dt>Exterior2nd</dt><dd>0</dd><dt>ExterQual</dt><dd>0</dd><dt>ExterCond</dt><dd>0</dd><dt>Foundation</dt><dd>0</dd><dt>BsmtFinSF1</dt><dd>0</dd><dt>BsmtFinSF2</dt><dd>0</dd><dt>BsmtUnfSF</dt><dd>0</dd><dt>TotalBsmtSF</dt><dd>0</dd><dt>Heating</dt><dd>0</dd><dt>HeatingQC</dt><dd>0</dd><dt>CentralAir</dt><dd>0</dd><dt>X1stFlrSF</dt><dd>0</dd><dt>X2ndFlrSF</dt><dd>0</dd><dt>LowQualFinSF</dt><dd>0</dd><dt>GrLivArea</dt><dd>0</dd><dt>BsmtFullBath</dt><dd>0</dd><dt>BsmtHalfBath</dt><dd>0</dd><dt>FullBath</dt><dd>0</dd><dt>HalfBath</dt><dd>0</dd><dt>BedroomAbvGr</dt><dd>0</dd><dt>KitchenAbvGr</dt><dd>0</dd><dt>KitchenQual</dt><dd>0</dd><dt>TotRmsAbvGrd</dt><dd>0</dd><dt>Functional</dt><dd>0</dd><dt>Fireplaces</dt><dd>0</dd><dt>GarageCars</dt><dd>0</dd><dt>GarageArea</dt><dd>0</dd><dt>PavedDrive</dt><dd>0</dd><dt>WoodDeckSF</dt><dd>0</dd><dt>OpenPorchSF</dt><dd>0</dd><dt>EnclosedPorch</dt><dd>0</dd><dt>X3SsnPorch</dt><dd>0</dd><dt>ScreenPorch</dt><dd>0</dd><dt>PoolArea</dt><dd>0</dd><dt>MiscVal</dt><dd>0</dd><dt>MoSold</dt><dd>0</dd><dt>YrSold</dt><dd>0</dd><dt>SaleType</dt><dd>0</dd><dt>SaleCondition</dt><dd>0</dd><dt>SalePrice</dt><dd>0</dd><dt>Electrical</dt><dd>1</dd><dt>MasVnrType</dt><dd>8</dd><dt>MasVnrArea</dt><dd>8</dd><dt>BsmtQual</dt><dd>37</dd><dt>BsmtCond</dt><dd>37</dd><dt>BsmtFinType1</dt><dd>37</dd><dt>BsmtExposure</dt><dd>38</dd><dt>BsmtFinType2</dt><dd>38</dd><dt>GarageType</dt><dd>81</dd><dt>GarageYrBlt</dt><dd>81</dd><dt>GarageFinish</dt><dd>81</dd><dt>GarageQual</dt><dd>81</dd><dt>GarageCond</dt><dd>81</dd><dt>LotFrontage</dt><dd>259</dd><dt>FireplaceQu</dt><dd>690</dd><dt>Fence</dt><dd>1179</dd><dt>Alley</dt><dd>1369</dd><dt>MiscFeature</dt><dd>1406</dd><dt>PoolQC</dt><dd>1453</dd></dl>\n"
      ],
      "text/latex": [
       "\\begin{description*}\n",
       "\\item[Id] 0\n",
       "\\item[MSSubClass] 0\n",
       "\\item[MSZoning] 0\n",
       "\\item[LotArea] 0\n",
       "\\item[Street] 0\n",
       "\\item[LotShape] 0\n",
       "\\item[LandContour] 0\n",
       "\\item[Utilities] 0\n",
       "\\item[LotConfig] 0\n",
       "\\item[LandSlope] 0\n",
       "\\item[Neighborhood] 0\n",
       "\\item[Condition1] 0\n",
       "\\item[Condition2] 0\n",
       "\\item[BldgType] 0\n",
       "\\item[HouseStyle] 0\n",
       "\\item[OverallQual] 0\n",
       "\\item[OverallCond] 0\n",
       "\\item[YearBuilt] 0\n",
       "\\item[YearRemodAdd] 0\n",
       "\\item[RoofStyle] 0\n",
       "\\item[RoofMatl] 0\n",
       "\\item[Exterior1st] 0\n",
       "\\item[Exterior2nd] 0\n",
       "\\item[ExterQual] 0\n",
       "\\item[ExterCond] 0\n",
       "\\item[Foundation] 0\n",
       "\\item[BsmtFinSF1] 0\n",
       "\\item[BsmtFinSF2] 0\n",
       "\\item[BsmtUnfSF] 0\n",
       "\\item[TotalBsmtSF] 0\n",
       "\\item[Heating] 0\n",
       "\\item[HeatingQC] 0\n",
       "\\item[CentralAir] 0\n",
       "\\item[X1stFlrSF] 0\n",
       "\\item[X2ndFlrSF] 0\n",
       "\\item[LowQualFinSF] 0\n",
       "\\item[GrLivArea] 0\n",
       "\\item[BsmtFullBath] 0\n",
       "\\item[BsmtHalfBath] 0\n",
       "\\item[FullBath] 0\n",
       "\\item[HalfBath] 0\n",
       "\\item[BedroomAbvGr] 0\n",
       "\\item[KitchenAbvGr] 0\n",
       "\\item[KitchenQual] 0\n",
       "\\item[TotRmsAbvGrd] 0\n",
       "\\item[Functional] 0\n",
       "\\item[Fireplaces] 0\n",
       "\\item[GarageCars] 0\n",
       "\\item[GarageArea] 0\n",
       "\\item[PavedDrive] 0\n",
       "\\item[WoodDeckSF] 0\n",
       "\\item[OpenPorchSF] 0\n",
       "\\item[EnclosedPorch] 0\n",
       "\\item[X3SsnPorch] 0\n",
       "\\item[ScreenPorch] 0\n",
       "\\item[PoolArea] 0\n",
       "\\item[MiscVal] 0\n",
       "\\item[MoSold] 0\n",
       "\\item[YrSold] 0\n",
       "\\item[SaleType] 0\n",
       "\\item[SaleCondition] 0\n",
       "\\item[SalePrice] 0\n",
       "\\item[Electrical] 1\n",
       "\\item[MasVnrType] 8\n",
       "\\item[MasVnrArea] 8\n",
       "\\item[BsmtQual] 37\n",
       "\\item[BsmtCond] 37\n",
       "\\item[BsmtFinType1] 37\n",
       "\\item[BsmtExposure] 38\n",
       "\\item[BsmtFinType2] 38\n",
       "\\item[GarageType] 81\n",
       "\\item[GarageYrBlt] 81\n",
       "\\item[GarageFinish] 81\n",
       "\\item[GarageQual] 81\n",
       "\\item[GarageCond] 81\n",
       "\\item[LotFrontage] 259\n",
       "\\item[FireplaceQu] 690\n",
       "\\item[Fence] 1179\n",
       "\\item[Alley] 1369\n",
       "\\item[MiscFeature] 1406\n",
       "\\item[PoolQC] 1453\n",
       "\\end{description*}\n"
      ],
      "text/markdown": [
       "Id\n",
       ":   0MSSubClass\n",
       ":   0MSZoning\n",
       ":   0LotArea\n",
       ":   0Street\n",
       ":   0LotShape\n",
       ":   0LandContour\n",
       ":   0Utilities\n",
       ":   0LotConfig\n",
       ":   0LandSlope\n",
       ":   0Neighborhood\n",
       ":   0Condition1\n",
       ":   0Condition2\n",
       ":   0BldgType\n",
       ":   0HouseStyle\n",
       ":   0OverallQual\n",
       ":   0OverallCond\n",
       ":   0YearBuilt\n",
       ":   0YearRemodAdd\n",
       ":   0RoofStyle\n",
       ":   0RoofMatl\n",
       ":   0Exterior1st\n",
       ":   0Exterior2nd\n",
       ":   0ExterQual\n",
       ":   0ExterCond\n",
       ":   0Foundation\n",
       ":   0BsmtFinSF1\n",
       ":   0BsmtFinSF2\n",
       ":   0BsmtUnfSF\n",
       ":   0TotalBsmtSF\n",
       ":   0Heating\n",
       ":   0HeatingQC\n",
       ":   0CentralAir\n",
       ":   0X1stFlrSF\n",
       ":   0X2ndFlrSF\n",
       ":   0LowQualFinSF\n",
       ":   0GrLivArea\n",
       ":   0BsmtFullBath\n",
       ":   0BsmtHalfBath\n",
       ":   0FullBath\n",
       ":   0HalfBath\n",
       ":   0BedroomAbvGr\n",
       ":   0KitchenAbvGr\n",
       ":   0KitchenQual\n",
       ":   0TotRmsAbvGrd\n",
       ":   0Functional\n",
       ":   0Fireplaces\n",
       ":   0GarageCars\n",
       ":   0GarageArea\n",
       ":   0PavedDrive\n",
       ":   0WoodDeckSF\n",
       ":   0OpenPorchSF\n",
       ":   0EnclosedPorch\n",
       ":   0X3SsnPorch\n",
       ":   0ScreenPorch\n",
       ":   0PoolArea\n",
       ":   0MiscVal\n",
       ":   0MoSold\n",
       ":   0YrSold\n",
       ":   0SaleType\n",
       ":   0SaleCondition\n",
       ":   0SalePrice\n",
       ":   0Electrical\n",
       ":   1MasVnrType\n",
       ":   8MasVnrArea\n",
       ":   8BsmtQual\n",
       ":   37BsmtCond\n",
       ":   37BsmtFinType1\n",
       ":   37BsmtExposure\n",
       ":   38BsmtFinType2\n",
       ":   38GarageType\n",
       ":   81GarageYrBlt\n",
       ":   81GarageFinish\n",
       ":   81GarageQual\n",
       ":   81GarageCond\n",
       ":   81LotFrontage\n",
       ":   259FireplaceQu\n",
       ":   690Fence\n",
       ":   1179Alley\n",
       ":   1369MiscFeature\n",
       ":   1406PoolQC\n",
       ":   1453\n",
       "\n"
      ],
      "text/plain": [
       "           Id    MSSubClass      MSZoning       LotArea        Street \n",
       "            0             0             0             0             0 \n",
       "     LotShape   LandContour     Utilities     LotConfig     LandSlope \n",
       "            0             0             0             0             0 \n",
       " Neighborhood    Condition1    Condition2      BldgType    HouseStyle \n",
       "            0             0             0             0             0 \n",
       "  OverallQual   OverallCond     YearBuilt  YearRemodAdd     RoofStyle \n",
       "            0             0             0             0             0 \n",
       "     RoofMatl   Exterior1st   Exterior2nd     ExterQual     ExterCond \n",
       "            0             0             0             0             0 \n",
       "   Foundation    BsmtFinSF1    BsmtFinSF2     BsmtUnfSF   TotalBsmtSF \n",
       "            0             0             0             0             0 \n",
       "      Heating     HeatingQC    CentralAir     X1stFlrSF     X2ndFlrSF \n",
       "            0             0             0             0             0 \n",
       " LowQualFinSF     GrLivArea  BsmtFullBath  BsmtHalfBath      FullBath \n",
       "            0             0             0             0             0 \n",
       "     HalfBath  BedroomAbvGr  KitchenAbvGr   KitchenQual  TotRmsAbvGrd \n",
       "            0             0             0             0             0 \n",
       "   Functional    Fireplaces    GarageCars    GarageArea    PavedDrive \n",
       "            0             0             0             0             0 \n",
       "   WoodDeckSF   OpenPorchSF EnclosedPorch    X3SsnPorch   ScreenPorch \n",
       "            0             0             0             0             0 \n",
       "     PoolArea       MiscVal        MoSold        YrSold      SaleType \n",
       "            0             0             0             0             0 \n",
       "SaleCondition     SalePrice    Electrical    MasVnrType    MasVnrArea \n",
       "            0             0             1             8             8 \n",
       "     BsmtQual      BsmtCond  BsmtFinType1  BsmtExposure  BsmtFinType2 \n",
       "           37            37            37            38            38 \n",
       "   GarageType   GarageYrBlt  GarageFinish    GarageQual    GarageCond \n",
       "           81            81            81            81            81 \n",
       "  LotFrontage   FireplaceQu         Fence         Alley   MiscFeature \n",
       "          259           690          1179          1369          1406 \n",
       "       PoolQC \n",
       "         1453 "
      ]
     },
     "metadata": {},
     "output_type": "display_data"
    }
   ],
   "source": [
    "# missing values in each column\n",
    "naCounts <- colSums(is.na(df_train))\n",
    "sort(naCounts)"
   ]
  },
  {
   "cell_type": "markdown",
   "metadata": {},
   "source": [
    "There are several ways to handle missing values in a data set:\n",
    "\n",
    "**Drop the rows or columns with missing values:** This is the simplest approach, but it can be problematic if the missing values are a significant portion of the data set.\n",
    "\n",
    "**Impute the missing values:** This means replacing the missing values with estimates based on the other values in the data set. There are many ways to impute missing values, such as using the mean, median, or mode of the non-missing values, or using a more advanced method such as linear regression or multiple imputation.\n",
    "\n",
    "**Use a method that can handle missing values:** Some algorithms, such as decision trees and random forests, can handle missing values without preprocessing.\n",
    "\n",
    "Which approach is best depends on the specific data set and the goals of the analysis. It is often a good idea to try multiple approaches and compare the results to see which one works best."
   ]
  },
  {
   "cell_type": "markdown",
   "metadata": {},
   "source": [
    "There is no one \"correct\" threshold for dropping columns with missing values. The appropriate threshold will depend on the specific data set and the goals of the analysis.\n",
    "\n",
    "Here are a few things to consider when deciding whether to drop columns with missing values:\n",
    "\n",
    "The size of the data set: If the data set is very large, you may be able to afford to drop more rows or columns without significantly affecting the overall analysis.\n",
    "\n",
    "The importance of the column: If the column is important for the analysis, you may want to keep it even if it has a high percentage of missing values.\n",
    "\n",
    "The number of missing values: If a column has a very high percentage of missing values (e.g., 90%), it may not be useful for the analysis, regardless of the size of the data set or the importance of the column.\n",
    "\n",
    "Ultimately, the decision of whether to drop a column with missing values is a trade-off between the loss of information and the potential impact of the missing values on the analysis. It is up to you to decide what threshold is appropriate for your data set and analysis."
   ]
  },
  {
   "cell_type": "code",
   "execution_count": 8,
   "metadata": {},
   "outputs": [
    {
     "data": {
      "text/html": [
       "<style>\n",
       ".dl-inline {width: auto; margin:0; padding: 0}\n",
       ".dl-inline>dt, .dl-inline>dd {float: none; width: auto; display: inline-block}\n",
       ".dl-inline>dt::after {content: \":\\0020\"; padding-right: .5ex}\n",
       ".dl-inline>dt:not(:first-of-type) {padding-left: .5ex}\n",
       "</style><dl class=dl-inline><dt>Id</dt><dd>0</dd><dt>MSSubClass</dt><dd>0</dd><dt>MSZoning</dt><dd>0</dd><dt>LotArea</dt><dd>0</dd><dt>Street</dt><dd>0</dd><dt>LotShape</dt><dd>0</dd><dt>LandContour</dt><dd>0</dd><dt>Utilities</dt><dd>0</dd><dt>LotConfig</dt><dd>0</dd><dt>LandSlope</dt><dd>0</dd><dt>Neighborhood</dt><dd>0</dd><dt>Condition1</dt><dd>0</dd><dt>Condition2</dt><dd>0</dd><dt>BldgType</dt><dd>0</dd><dt>HouseStyle</dt><dd>0</dd><dt>OverallQual</dt><dd>0</dd><dt>OverallCond</dt><dd>0</dd><dt>YearBuilt</dt><dd>0</dd><dt>YearRemodAdd</dt><dd>0</dd><dt>RoofStyle</dt><dd>0</dd><dt>RoofMatl</dt><dd>0</dd><dt>Exterior1st</dt><dd>0</dd><dt>Exterior2nd</dt><dd>0</dd><dt>ExterQual</dt><dd>0</dd><dt>ExterCond</dt><dd>0</dd><dt>Foundation</dt><dd>0</dd><dt>BsmtFinSF1</dt><dd>0</dd><dt>BsmtFinSF2</dt><dd>0</dd><dt>BsmtUnfSF</dt><dd>0</dd><dt>TotalBsmtSF</dt><dd>0</dd><dt>Heating</dt><dd>0</dd><dt>HeatingQC</dt><dd>0</dd><dt>CentralAir</dt><dd>0</dd><dt>X1stFlrSF</dt><dd>0</dd><dt>X2ndFlrSF</dt><dd>0</dd><dt>LowQualFinSF</dt><dd>0</dd><dt>GrLivArea</dt><dd>0</dd><dt>BsmtFullBath</dt><dd>0</dd><dt>BsmtHalfBath</dt><dd>0</dd><dt>FullBath</dt><dd>0</dd><dt>HalfBath</dt><dd>0</dd><dt>BedroomAbvGr</dt><dd>0</dd><dt>KitchenAbvGr</dt><dd>0</dd><dt>KitchenQual</dt><dd>0</dd><dt>TotRmsAbvGrd</dt><dd>0</dd><dt>Functional</dt><dd>0</dd><dt>Fireplaces</dt><dd>0</dd><dt>GarageCars</dt><dd>0</dd><dt>GarageArea</dt><dd>0</dd><dt>PavedDrive</dt><dd>0</dd><dt>WoodDeckSF</dt><dd>0</dd><dt>OpenPorchSF</dt><dd>0</dd><dt>EnclosedPorch</dt><dd>0</dd><dt>X3SsnPorch</dt><dd>0</dd><dt>ScreenPorch</dt><dd>0</dd><dt>PoolArea</dt><dd>0</dd><dt>MiscVal</dt><dd>0</dd><dt>MoSold</dt><dd>0</dd><dt>YrSold</dt><dd>0</dd><dt>SaleType</dt><dd>0</dd><dt>SaleCondition</dt><dd>0</dd><dt>SalePrice</dt><dd>0</dd><dt>Electrical</dt><dd>0.0684931506849315</dd><dt>MasVnrType</dt><dd>0.547945205479452</dd><dt>MasVnrArea</dt><dd>0.547945205479452</dd><dt>BsmtQual</dt><dd>2.53424657534247</dd><dt>BsmtCond</dt><dd>2.53424657534247</dd><dt>BsmtFinType1</dt><dd>2.53424657534247</dd><dt>BsmtExposure</dt><dd>2.6027397260274</dd><dt>BsmtFinType2</dt><dd>2.6027397260274</dd><dt>GarageType</dt><dd>5.54794520547945</dd><dt>GarageYrBlt</dt><dd>5.54794520547945</dd><dt>GarageFinish</dt><dd>5.54794520547945</dd><dt>GarageQual</dt><dd>5.54794520547945</dd><dt>GarageCond</dt><dd>5.54794520547945</dd><dt>LotFrontage</dt><dd>17.7397260273973</dd><dt>FireplaceQu</dt><dd>47.2602739726027</dd><dt>Fence</dt><dd>80.7534246575342</dd><dt>Alley</dt><dd>93.7671232876712</dd><dt>MiscFeature</dt><dd>96.3013698630137</dd><dt>PoolQC</dt><dd>99.5205479452055</dd></dl>\n"
      ],
      "text/latex": [
       "\\begin{description*}\n",
       "\\item[Id] 0\n",
       "\\item[MSSubClass] 0\n",
       "\\item[MSZoning] 0\n",
       "\\item[LotArea] 0\n",
       "\\item[Street] 0\n",
       "\\item[LotShape] 0\n",
       "\\item[LandContour] 0\n",
       "\\item[Utilities] 0\n",
       "\\item[LotConfig] 0\n",
       "\\item[LandSlope] 0\n",
       "\\item[Neighborhood] 0\n",
       "\\item[Condition1] 0\n",
       "\\item[Condition2] 0\n",
       "\\item[BldgType] 0\n",
       "\\item[HouseStyle] 0\n",
       "\\item[OverallQual] 0\n",
       "\\item[OverallCond] 0\n",
       "\\item[YearBuilt] 0\n",
       "\\item[YearRemodAdd] 0\n",
       "\\item[RoofStyle] 0\n",
       "\\item[RoofMatl] 0\n",
       "\\item[Exterior1st] 0\n",
       "\\item[Exterior2nd] 0\n",
       "\\item[ExterQual] 0\n",
       "\\item[ExterCond] 0\n",
       "\\item[Foundation] 0\n",
       "\\item[BsmtFinSF1] 0\n",
       "\\item[BsmtFinSF2] 0\n",
       "\\item[BsmtUnfSF] 0\n",
       "\\item[TotalBsmtSF] 0\n",
       "\\item[Heating] 0\n",
       "\\item[HeatingQC] 0\n",
       "\\item[CentralAir] 0\n",
       "\\item[X1stFlrSF] 0\n",
       "\\item[X2ndFlrSF] 0\n",
       "\\item[LowQualFinSF] 0\n",
       "\\item[GrLivArea] 0\n",
       "\\item[BsmtFullBath] 0\n",
       "\\item[BsmtHalfBath] 0\n",
       "\\item[FullBath] 0\n",
       "\\item[HalfBath] 0\n",
       "\\item[BedroomAbvGr] 0\n",
       "\\item[KitchenAbvGr] 0\n",
       "\\item[KitchenQual] 0\n",
       "\\item[TotRmsAbvGrd] 0\n",
       "\\item[Functional] 0\n",
       "\\item[Fireplaces] 0\n",
       "\\item[GarageCars] 0\n",
       "\\item[GarageArea] 0\n",
       "\\item[PavedDrive] 0\n",
       "\\item[WoodDeckSF] 0\n",
       "\\item[OpenPorchSF] 0\n",
       "\\item[EnclosedPorch] 0\n",
       "\\item[X3SsnPorch] 0\n",
       "\\item[ScreenPorch] 0\n",
       "\\item[PoolArea] 0\n",
       "\\item[MiscVal] 0\n",
       "\\item[MoSold] 0\n",
       "\\item[YrSold] 0\n",
       "\\item[SaleType] 0\n",
       "\\item[SaleCondition] 0\n",
       "\\item[SalePrice] 0\n",
       "\\item[Electrical] 0.0684931506849315\n",
       "\\item[MasVnrType] 0.547945205479452\n",
       "\\item[MasVnrArea] 0.547945205479452\n",
       "\\item[BsmtQual] 2.53424657534247\n",
       "\\item[BsmtCond] 2.53424657534247\n",
       "\\item[BsmtFinType1] 2.53424657534247\n",
       "\\item[BsmtExposure] 2.6027397260274\n",
       "\\item[BsmtFinType2] 2.6027397260274\n",
       "\\item[GarageType] 5.54794520547945\n",
       "\\item[GarageYrBlt] 5.54794520547945\n",
       "\\item[GarageFinish] 5.54794520547945\n",
       "\\item[GarageQual] 5.54794520547945\n",
       "\\item[GarageCond] 5.54794520547945\n",
       "\\item[LotFrontage] 17.7397260273973\n",
       "\\item[FireplaceQu] 47.2602739726027\n",
       "\\item[Fence] 80.7534246575342\n",
       "\\item[Alley] 93.7671232876712\n",
       "\\item[MiscFeature] 96.3013698630137\n",
       "\\item[PoolQC] 99.5205479452055\n",
       "\\end{description*}\n"
      ],
      "text/markdown": [
       "Id\n",
       ":   0MSSubClass\n",
       ":   0MSZoning\n",
       ":   0LotArea\n",
       ":   0Street\n",
       ":   0LotShape\n",
       ":   0LandContour\n",
       ":   0Utilities\n",
       ":   0LotConfig\n",
       ":   0LandSlope\n",
       ":   0Neighborhood\n",
       ":   0Condition1\n",
       ":   0Condition2\n",
       ":   0BldgType\n",
       ":   0HouseStyle\n",
       ":   0OverallQual\n",
       ":   0OverallCond\n",
       ":   0YearBuilt\n",
       ":   0YearRemodAdd\n",
       ":   0RoofStyle\n",
       ":   0RoofMatl\n",
       ":   0Exterior1st\n",
       ":   0Exterior2nd\n",
       ":   0ExterQual\n",
       ":   0ExterCond\n",
       ":   0Foundation\n",
       ":   0BsmtFinSF1\n",
       ":   0BsmtFinSF2\n",
       ":   0BsmtUnfSF\n",
       ":   0TotalBsmtSF\n",
       ":   0Heating\n",
       ":   0HeatingQC\n",
       ":   0CentralAir\n",
       ":   0X1stFlrSF\n",
       ":   0X2ndFlrSF\n",
       ":   0LowQualFinSF\n",
       ":   0GrLivArea\n",
       ":   0BsmtFullBath\n",
       ":   0BsmtHalfBath\n",
       ":   0FullBath\n",
       ":   0HalfBath\n",
       ":   0BedroomAbvGr\n",
       ":   0KitchenAbvGr\n",
       ":   0KitchenQual\n",
       ":   0TotRmsAbvGrd\n",
       ":   0Functional\n",
       ":   0Fireplaces\n",
       ":   0GarageCars\n",
       ":   0GarageArea\n",
       ":   0PavedDrive\n",
       ":   0WoodDeckSF\n",
       ":   0OpenPorchSF\n",
       ":   0EnclosedPorch\n",
       ":   0X3SsnPorch\n",
       ":   0ScreenPorch\n",
       ":   0PoolArea\n",
       ":   0MiscVal\n",
       ":   0MoSold\n",
       ":   0YrSold\n",
       ":   0SaleType\n",
       ":   0SaleCondition\n",
       ":   0SalePrice\n",
       ":   0Electrical\n",
       ":   0.0684931506849315MasVnrType\n",
       ":   0.547945205479452MasVnrArea\n",
       ":   0.547945205479452BsmtQual\n",
       ":   2.53424657534247BsmtCond\n",
       ":   2.53424657534247BsmtFinType1\n",
       ":   2.53424657534247BsmtExposure\n",
       ":   2.6027397260274BsmtFinType2\n",
       ":   2.6027397260274GarageType\n",
       ":   5.54794520547945GarageYrBlt\n",
       ":   5.54794520547945GarageFinish\n",
       ":   5.54794520547945GarageQual\n",
       ":   5.54794520547945GarageCond\n",
       ":   5.54794520547945LotFrontage\n",
       ":   17.7397260273973FireplaceQu\n",
       ":   47.2602739726027Fence\n",
       ":   80.7534246575342Alley\n",
       ":   93.7671232876712MiscFeature\n",
       ":   96.3013698630137PoolQC\n",
       ":   99.5205479452055\n",
       "\n"
      ],
      "text/plain": [
       "           Id    MSSubClass      MSZoning       LotArea        Street \n",
       "   0.00000000    0.00000000    0.00000000    0.00000000    0.00000000 \n",
       "     LotShape   LandContour     Utilities     LotConfig     LandSlope \n",
       "   0.00000000    0.00000000    0.00000000    0.00000000    0.00000000 \n",
       " Neighborhood    Condition1    Condition2      BldgType    HouseStyle \n",
       "   0.00000000    0.00000000    0.00000000    0.00000000    0.00000000 \n",
       "  OverallQual   OverallCond     YearBuilt  YearRemodAdd     RoofStyle \n",
       "   0.00000000    0.00000000    0.00000000    0.00000000    0.00000000 \n",
       "     RoofMatl   Exterior1st   Exterior2nd     ExterQual     ExterCond \n",
       "   0.00000000    0.00000000    0.00000000    0.00000000    0.00000000 \n",
       "   Foundation    BsmtFinSF1    BsmtFinSF2     BsmtUnfSF   TotalBsmtSF \n",
       "   0.00000000    0.00000000    0.00000000    0.00000000    0.00000000 \n",
       "      Heating     HeatingQC    CentralAir     X1stFlrSF     X2ndFlrSF \n",
       "   0.00000000    0.00000000    0.00000000    0.00000000    0.00000000 \n",
       " LowQualFinSF     GrLivArea  BsmtFullBath  BsmtHalfBath      FullBath \n",
       "   0.00000000    0.00000000    0.00000000    0.00000000    0.00000000 \n",
       "     HalfBath  BedroomAbvGr  KitchenAbvGr   KitchenQual  TotRmsAbvGrd \n",
       "   0.00000000    0.00000000    0.00000000    0.00000000    0.00000000 \n",
       "   Functional    Fireplaces    GarageCars    GarageArea    PavedDrive \n",
       "   0.00000000    0.00000000    0.00000000    0.00000000    0.00000000 \n",
       "   WoodDeckSF   OpenPorchSF EnclosedPorch    X3SsnPorch   ScreenPorch \n",
       "   0.00000000    0.00000000    0.00000000    0.00000000    0.00000000 \n",
       "     PoolArea       MiscVal        MoSold        YrSold      SaleType \n",
       "   0.00000000    0.00000000    0.00000000    0.00000000    0.00000000 \n",
       "SaleCondition     SalePrice    Electrical    MasVnrType    MasVnrArea \n",
       "   0.00000000    0.00000000    0.06849315    0.54794521    0.54794521 \n",
       "     BsmtQual      BsmtCond  BsmtFinType1  BsmtExposure  BsmtFinType2 \n",
       "   2.53424658    2.53424658    2.53424658    2.60273973    2.60273973 \n",
       "   GarageType   GarageYrBlt  GarageFinish    GarageQual    GarageCond \n",
       "   5.54794521    5.54794521    5.54794521    5.54794521    5.54794521 \n",
       "  LotFrontage   FireplaceQu         Fence         Alley   MiscFeature \n",
       "  17.73972603   47.26027397   80.75342466   93.76712329   96.30136986 \n",
       "       PoolQC \n",
       "  99.52054795 "
      ]
     },
     "metadata": {},
     "output_type": "display_data"
    }
   ],
   "source": [
    "# percentage of missing values in each column in training dataset\n",
    "p <- function(x) {sum(is.na(x))/length(x)*100}\n",
    "sort(apply(df_train, 2, p)) # marmin = 2 means function will be applied in each column "
   ]
  },
  {
   "cell_type": "code",
   "execution_count": 83,
   "metadata": {},
   "outputs": [
    {
     "data": {
      "text/html": [
       "<style>\n",
       ".dl-inline {width: auto; margin:0; padding: 0}\n",
       ".dl-inline>dt, .dl-inline>dd {float: none; width: auto; display: inline-block}\n",
       ".dl-inline>dt::after {content: \":\\0020\"; padding-right: .5ex}\n",
       ".dl-inline>dt:not(:first-of-type) {padding-left: .5ex}\n",
       "</style><dl class=dl-inline><dt>Id</dt><dd>0</dd><dt>MSSubClass</dt><dd>0</dd><dt>LotArea</dt><dd>0</dd><dt>Street</dt><dd>0</dd><dt>LotShape</dt><dd>0</dd><dt>LandContour</dt><dd>0</dd><dt>LotConfig</dt><dd>0</dd><dt>LandSlope</dt><dd>0</dd><dt>Neighborhood</dt><dd>0</dd><dt>Condition1</dt><dd>0</dd><dt>Condition2</dt><dd>0</dd><dt>BldgType</dt><dd>0</dd><dt>HouseStyle</dt><dd>0</dd><dt>OverallQual</dt><dd>0</dd><dt>OverallCond</dt><dd>0</dd><dt>YearBuilt</dt><dd>0</dd><dt>YearRemodAdd</dt><dd>0</dd><dt>RoofStyle</dt><dd>0</dd><dt>RoofMatl</dt><dd>0</dd><dt>ExterQual</dt><dd>0</dd><dt>ExterCond</dt><dd>0</dd><dt>Foundation</dt><dd>0</dd><dt>Heating</dt><dd>0</dd><dt>HeatingQC</dt><dd>0</dd><dt>CentralAir</dt><dd>0</dd><dt>Electrical</dt><dd>0</dd><dt>X1stFlrSF</dt><dd>0</dd><dt>X2ndFlrSF</dt><dd>0</dd><dt>LowQualFinSF</dt><dd>0</dd><dt>GrLivArea</dt><dd>0</dd><dt>FullBath</dt><dd>0</dd><dt>HalfBath</dt><dd>0</dd><dt>BedroomAbvGr</dt><dd>0</dd><dt>KitchenAbvGr</dt><dd>0</dd><dt>TotRmsAbvGrd</dt><dd>0</dd><dt>Fireplaces</dt><dd>0</dd><dt>PavedDrive</dt><dd>0</dd><dt>WoodDeckSF</dt><dd>0</dd><dt>OpenPorchSF</dt><dd>0</dd><dt>EnclosedPorch</dt><dd>0</dd><dt>X3SsnPorch</dt><dd>0</dd><dt>ScreenPorch</dt><dd>0</dd><dt>PoolArea</dt><dd>0</dd><dt>MiscVal</dt><dd>0</dd><dt>MoSold</dt><dd>0</dd><dt>YrSold</dt><dd>0</dd><dt>SaleCondition</dt><dd>0</dd><dt>Exterior1st</dt><dd>0.0685400959561343</dd><dt>Exterior2nd</dt><dd>0.0685400959561343</dd><dt>BsmtFinSF1</dt><dd>0.0685400959561343</dd><dt>BsmtFinSF2</dt><dd>0.0685400959561343</dd><dt>BsmtUnfSF</dt><dd>0.0685400959561343</dd><dt>TotalBsmtSF</dt><dd>0.0685400959561343</dd><dt>KitchenQual</dt><dd>0.0685400959561343</dd><dt>GarageCars</dt><dd>0.0685400959561343</dd><dt>GarageArea</dt><dd>0.0685400959561343</dd><dt>SaleType</dt><dd>0.0685400959561343</dd><dt>Utilities</dt><dd>0.137080191912269</dd><dt>BsmtFullBath</dt><dd>0.137080191912269</dd><dt>BsmtHalfBath</dt><dd>0.137080191912269</dd><dt>Functional</dt><dd>0.137080191912269</dd><dt>MSZoning</dt><dd>0.274160383824537</dd><dt>MasVnrArea</dt><dd>1.02810143934202</dd><dt>MasVnrType</dt><dd>1.09664153529815</dd><dt>BsmtFinType1</dt><dd>2.87868403015764</dd><dt>BsmtFinType2</dt><dd>2.87868403015764</dd><dt>BsmtQual</dt><dd>3.01576422206991</dd><dt>BsmtExposure</dt><dd>3.01576422206991</dd><dt>BsmtCond</dt><dd>3.08430431802605</dd><dt>GarageType</dt><dd>5.20904729266621</dd><dt>GarageYrBlt</dt><dd>5.34612748457848</dd><dt>GarageFinish</dt><dd>5.34612748457848</dd><dt>GarageQual</dt><dd>5.34612748457848</dd><dt>GarageCond</dt><dd>5.34612748457848</dd><dt>LotFrontage</dt><dd>15.5586017820425</dd><dt>FireplaceQu</dt><dd>50.0342700479781</dd><dt>Fence</dt><dd>80.123372172721</dd><dt>Alley</dt><dd>92.6662097326936</dd><dt>MiscFeature</dt><dd>96.5044551062371</dd><dt>PoolQC</dt><dd>99.7943797121316</dd></dl>\n"
      ],
      "text/latex": [
       "\\begin{description*}\n",
       "\\item[Id] 0\n",
       "\\item[MSSubClass] 0\n",
       "\\item[LotArea] 0\n",
       "\\item[Street] 0\n",
       "\\item[LotShape] 0\n",
       "\\item[LandContour] 0\n",
       "\\item[LotConfig] 0\n",
       "\\item[LandSlope] 0\n",
       "\\item[Neighborhood] 0\n",
       "\\item[Condition1] 0\n",
       "\\item[Condition2] 0\n",
       "\\item[BldgType] 0\n",
       "\\item[HouseStyle] 0\n",
       "\\item[OverallQual] 0\n",
       "\\item[OverallCond] 0\n",
       "\\item[YearBuilt] 0\n",
       "\\item[YearRemodAdd] 0\n",
       "\\item[RoofStyle] 0\n",
       "\\item[RoofMatl] 0\n",
       "\\item[ExterQual] 0\n",
       "\\item[ExterCond] 0\n",
       "\\item[Foundation] 0\n",
       "\\item[Heating] 0\n",
       "\\item[HeatingQC] 0\n",
       "\\item[CentralAir] 0\n",
       "\\item[Electrical] 0\n",
       "\\item[X1stFlrSF] 0\n",
       "\\item[X2ndFlrSF] 0\n",
       "\\item[LowQualFinSF] 0\n",
       "\\item[GrLivArea] 0\n",
       "\\item[FullBath] 0\n",
       "\\item[HalfBath] 0\n",
       "\\item[BedroomAbvGr] 0\n",
       "\\item[KitchenAbvGr] 0\n",
       "\\item[TotRmsAbvGrd] 0\n",
       "\\item[Fireplaces] 0\n",
       "\\item[PavedDrive] 0\n",
       "\\item[WoodDeckSF] 0\n",
       "\\item[OpenPorchSF] 0\n",
       "\\item[EnclosedPorch] 0\n",
       "\\item[X3SsnPorch] 0\n",
       "\\item[ScreenPorch] 0\n",
       "\\item[PoolArea] 0\n",
       "\\item[MiscVal] 0\n",
       "\\item[MoSold] 0\n",
       "\\item[YrSold] 0\n",
       "\\item[SaleCondition] 0\n",
       "\\item[Exterior1st] 0.0685400959561343\n",
       "\\item[Exterior2nd] 0.0685400959561343\n",
       "\\item[BsmtFinSF1] 0.0685400959561343\n",
       "\\item[BsmtFinSF2] 0.0685400959561343\n",
       "\\item[BsmtUnfSF] 0.0685400959561343\n",
       "\\item[TotalBsmtSF] 0.0685400959561343\n",
       "\\item[KitchenQual] 0.0685400959561343\n",
       "\\item[GarageCars] 0.0685400959561343\n",
       "\\item[GarageArea] 0.0685400959561343\n",
       "\\item[SaleType] 0.0685400959561343\n",
       "\\item[Utilities] 0.137080191912269\n",
       "\\item[BsmtFullBath] 0.137080191912269\n",
       "\\item[BsmtHalfBath] 0.137080191912269\n",
       "\\item[Functional] 0.137080191912269\n",
       "\\item[MSZoning] 0.274160383824537\n",
       "\\item[MasVnrArea] 1.02810143934202\n",
       "\\item[MasVnrType] 1.09664153529815\n",
       "\\item[BsmtFinType1] 2.87868403015764\n",
       "\\item[BsmtFinType2] 2.87868403015764\n",
       "\\item[BsmtQual] 3.01576422206991\n",
       "\\item[BsmtExposure] 3.01576422206991\n",
       "\\item[BsmtCond] 3.08430431802605\n",
       "\\item[GarageType] 5.20904729266621\n",
       "\\item[GarageYrBlt] 5.34612748457848\n",
       "\\item[GarageFinish] 5.34612748457848\n",
       "\\item[GarageQual] 5.34612748457848\n",
       "\\item[GarageCond] 5.34612748457848\n",
       "\\item[LotFrontage] 15.5586017820425\n",
       "\\item[FireplaceQu] 50.0342700479781\n",
       "\\item[Fence] 80.123372172721\n",
       "\\item[Alley] 92.6662097326936\n",
       "\\item[MiscFeature] 96.5044551062371\n",
       "\\item[PoolQC] 99.7943797121316\n",
       "\\end{description*}\n"
      ],
      "text/markdown": [
       "Id\n",
       ":   0MSSubClass\n",
       ":   0LotArea\n",
       ":   0Street\n",
       ":   0LotShape\n",
       ":   0LandContour\n",
       ":   0LotConfig\n",
       ":   0LandSlope\n",
       ":   0Neighborhood\n",
       ":   0Condition1\n",
       ":   0Condition2\n",
       ":   0BldgType\n",
       ":   0HouseStyle\n",
       ":   0OverallQual\n",
       ":   0OverallCond\n",
       ":   0YearBuilt\n",
       ":   0YearRemodAdd\n",
       ":   0RoofStyle\n",
       ":   0RoofMatl\n",
       ":   0ExterQual\n",
       ":   0ExterCond\n",
       ":   0Foundation\n",
       ":   0Heating\n",
       ":   0HeatingQC\n",
       ":   0CentralAir\n",
       ":   0Electrical\n",
       ":   0X1stFlrSF\n",
       ":   0X2ndFlrSF\n",
       ":   0LowQualFinSF\n",
       ":   0GrLivArea\n",
       ":   0FullBath\n",
       ":   0HalfBath\n",
       ":   0BedroomAbvGr\n",
       ":   0KitchenAbvGr\n",
       ":   0TotRmsAbvGrd\n",
       ":   0Fireplaces\n",
       ":   0PavedDrive\n",
       ":   0WoodDeckSF\n",
       ":   0OpenPorchSF\n",
       ":   0EnclosedPorch\n",
       ":   0X3SsnPorch\n",
       ":   0ScreenPorch\n",
       ":   0PoolArea\n",
       ":   0MiscVal\n",
       ":   0MoSold\n",
       ":   0YrSold\n",
       ":   0SaleCondition\n",
       ":   0Exterior1st\n",
       ":   0.0685400959561343Exterior2nd\n",
       ":   0.0685400959561343BsmtFinSF1\n",
       ":   0.0685400959561343BsmtFinSF2\n",
       ":   0.0685400959561343BsmtUnfSF\n",
       ":   0.0685400959561343TotalBsmtSF\n",
       ":   0.0685400959561343KitchenQual\n",
       ":   0.0685400959561343GarageCars\n",
       ":   0.0685400959561343GarageArea\n",
       ":   0.0685400959561343SaleType\n",
       ":   0.0685400959561343Utilities\n",
       ":   0.137080191912269BsmtFullBath\n",
       ":   0.137080191912269BsmtHalfBath\n",
       ":   0.137080191912269Functional\n",
       ":   0.137080191912269MSZoning\n",
       ":   0.274160383824537MasVnrArea\n",
       ":   1.02810143934202MasVnrType\n",
       ":   1.09664153529815BsmtFinType1\n",
       ":   2.87868403015764BsmtFinType2\n",
       ":   2.87868403015764BsmtQual\n",
       ":   3.01576422206991BsmtExposure\n",
       ":   3.01576422206991BsmtCond\n",
       ":   3.08430431802605GarageType\n",
       ":   5.20904729266621GarageYrBlt\n",
       ":   5.34612748457848GarageFinish\n",
       ":   5.34612748457848GarageQual\n",
       ":   5.34612748457848GarageCond\n",
       ":   5.34612748457848LotFrontage\n",
       ":   15.5586017820425FireplaceQu\n",
       ":   50.0342700479781Fence\n",
       ":   80.123372172721Alley\n",
       ":   92.6662097326936MiscFeature\n",
       ":   96.5044551062371PoolQC\n",
       ":   99.7943797121316\n",
       "\n"
      ],
      "text/plain": [
       "           Id    MSSubClass       LotArea        Street      LotShape \n",
       "    0.0000000     0.0000000     0.0000000     0.0000000     0.0000000 \n",
       "  LandContour     LotConfig     LandSlope  Neighborhood    Condition1 \n",
       "    0.0000000     0.0000000     0.0000000     0.0000000     0.0000000 \n",
       "   Condition2      BldgType    HouseStyle   OverallQual   OverallCond \n",
       "    0.0000000     0.0000000     0.0000000     0.0000000     0.0000000 \n",
       "    YearBuilt  YearRemodAdd     RoofStyle      RoofMatl     ExterQual \n",
       "    0.0000000     0.0000000     0.0000000     0.0000000     0.0000000 \n",
       "    ExterCond    Foundation       Heating     HeatingQC    CentralAir \n",
       "    0.0000000     0.0000000     0.0000000     0.0000000     0.0000000 \n",
       "   Electrical     X1stFlrSF     X2ndFlrSF  LowQualFinSF     GrLivArea \n",
       "    0.0000000     0.0000000     0.0000000     0.0000000     0.0000000 \n",
       "     FullBath      HalfBath  BedroomAbvGr  KitchenAbvGr  TotRmsAbvGrd \n",
       "    0.0000000     0.0000000     0.0000000     0.0000000     0.0000000 \n",
       "   Fireplaces    PavedDrive    WoodDeckSF   OpenPorchSF EnclosedPorch \n",
       "    0.0000000     0.0000000     0.0000000     0.0000000     0.0000000 \n",
       "   X3SsnPorch   ScreenPorch      PoolArea       MiscVal        MoSold \n",
       "    0.0000000     0.0000000     0.0000000     0.0000000     0.0000000 \n",
       "       YrSold SaleCondition   Exterior1st   Exterior2nd    BsmtFinSF1 \n",
       "    0.0000000     0.0000000     0.0685401     0.0685401     0.0685401 \n",
       "   BsmtFinSF2     BsmtUnfSF   TotalBsmtSF   KitchenQual    GarageCars \n",
       "    0.0685401     0.0685401     0.0685401     0.0685401     0.0685401 \n",
       "   GarageArea      SaleType     Utilities  BsmtFullBath  BsmtHalfBath \n",
       "    0.0685401     0.0685401     0.1370802     0.1370802     0.1370802 \n",
       "   Functional      MSZoning    MasVnrArea    MasVnrType  BsmtFinType1 \n",
       "    0.1370802     0.2741604     1.0281014     1.0966415     2.8786840 \n",
       " BsmtFinType2      BsmtQual  BsmtExposure      BsmtCond    GarageType \n",
       "    2.8786840     3.0157642     3.0157642     3.0843043     5.2090473 \n",
       "  GarageYrBlt  GarageFinish    GarageQual    GarageCond   LotFrontage \n",
       "    5.3461275     5.3461275     5.3461275     5.3461275    15.5586018 \n",
       "  FireplaceQu         Fence         Alley   MiscFeature        PoolQC \n",
       "   50.0342700    80.1233722    92.6662097    96.5044551    99.7943797 "
      ]
     },
     "metadata": {},
     "output_type": "display_data"
    }
   ],
   "source": [
    "# percentage of missing values in each column in testing dataset\n",
    "p <- function(x) {sum(is.na(x))/length(x)*100}\n",
    "sort(apply(df_test, 2, p)) # marmin = 2 means function will be applied in each column "
   ]
  },
  {
   "cell_type": "code",
   "execution_count": 62,
   "metadata": {},
   "outputs": [
    {
     "data": {
      "text/html": [
       "38"
      ],
      "text/latex": [
       "38"
      ],
      "text/markdown": [
       "38"
      ],
      "text/plain": [
       "[1] 38"
      ]
     },
     "metadata": {},
     "output_type": "display_data"
    }
   ],
   "source": [
    "# count numerical features\n",
    "sum(sapply(df_train, is.numeric))"
   ]
  },
  {
   "cell_type": "code",
   "execution_count": 63,
   "metadata": {},
   "outputs": [
    {
     "data": {
      "text/html": [
       "43"
      ],
      "text/latex": [
       "43"
      ],
      "text/markdown": [
       "43"
      ],
      "text/plain": [
       "[1] 43"
      ]
     },
     "metadata": {},
     "output_type": "display_data"
    }
   ],
   "source": [
    "# count categorical features\n",
    "sum(sapply(df_train, is.character))"
   ]
  },
  {
   "cell_type": "code",
   "execution_count": 64,
   "metadata": {},
   "outputs": [
    {
     "name": "stdout",
     "output_type": "stream",
     "text": [
      "'data.frame':\t1460 obs. of  81 variables:\n",
      " $ Id           : int  1 2 3 4 5 6 7 8 9 10 ...\n",
      " $ MSSubClass   : int  60 20 60 70 60 50 20 60 50 190 ...\n",
      " $ MSZoning     : chr  \"RL\" \"RL\" \"RL\" \"RL\" ...\n",
      " $ LotFrontage  : int  65 80 68 60 84 85 75 NA 51 50 ...\n",
      " $ LotArea      : int  8450 9600 11250 9550 14260 14115 10084 10382 6120 7420 ...\n",
      " $ Street       : chr  \"Pave\" \"Pave\" \"Pave\" \"Pave\" ...\n",
      " $ Alley        : chr  NA NA NA NA ...\n",
      " $ LotShape     : chr  \"Reg\" \"Reg\" \"IR1\" \"IR1\" ...\n",
      " $ LandContour  : chr  \"Lvl\" \"Lvl\" \"Lvl\" \"Lvl\" ...\n",
      " $ Utilities    : chr  \"AllPub\" \"AllPub\" \"AllPub\" \"AllPub\" ...\n",
      " $ LotConfig    : chr  \"Inside\" \"FR2\" \"Inside\" \"Corner\" ...\n",
      " $ LandSlope    : chr  \"Gtl\" \"Gtl\" \"Gtl\" \"Gtl\" ...\n",
      " $ Neighborhood : chr  \"CollgCr\" \"Veenker\" \"CollgCr\" \"Crawfor\" ...\n",
      " $ Condition1   : chr  \"Norm\" \"Feedr\" \"Norm\" \"Norm\" ...\n",
      " $ Condition2   : chr  \"Norm\" \"Norm\" \"Norm\" \"Norm\" ...\n",
      " $ BldgType     : chr  \"1Fam\" \"1Fam\" \"1Fam\" \"1Fam\" ...\n",
      " $ HouseStyle   : chr  \"2Story\" \"1Story\" \"2Story\" \"2Story\" ...\n",
      " $ OverallQual  : int  7 6 7 7 8 5 8 7 7 5 ...\n",
      " $ OverallCond  : int  5 8 5 5 5 5 5 6 5 6 ...\n",
      " $ YearBuilt    : int  2003 1976 2001 1915 2000 1993 2004 1973 1931 1939 ...\n",
      " $ YearRemodAdd : int  2003 1976 2002 1970 2000 1995 2005 1973 1950 1950 ...\n",
      " $ RoofStyle    : chr  \"Gable\" \"Gable\" \"Gable\" \"Gable\" ...\n",
      " $ RoofMatl     : chr  \"CompShg\" \"CompShg\" \"CompShg\" \"CompShg\" ...\n",
      " $ Exterior1st  : chr  \"VinylSd\" \"MetalSd\" \"VinylSd\" \"Wd Sdng\" ...\n",
      " $ Exterior2nd  : chr  \"VinylSd\" \"MetalSd\" \"VinylSd\" \"Wd Shng\" ...\n",
      " $ MasVnrType   : chr  \"BrkFace\" \"None\" \"BrkFace\" \"None\" ...\n",
      " $ MasVnrArea   : int  196 0 162 0 350 0 186 240 0 0 ...\n",
      " $ ExterQual    : chr  \"Gd\" \"TA\" \"Gd\" \"TA\" ...\n",
      " $ ExterCond    : chr  \"TA\" \"TA\" \"TA\" \"TA\" ...\n",
      " $ Foundation   : chr  \"PConc\" \"CBlock\" \"PConc\" \"BrkTil\" ...\n",
      " $ BsmtQual     : chr  \"Gd\" \"Gd\" \"Gd\" \"TA\" ...\n",
      " $ BsmtCond     : chr  \"TA\" \"TA\" \"TA\" \"Gd\" ...\n",
      " $ BsmtExposure : chr  \"No\" \"Gd\" \"Mn\" \"No\" ...\n",
      " $ BsmtFinType1 : chr  \"GLQ\" \"ALQ\" \"GLQ\" \"ALQ\" ...\n",
      " $ BsmtFinSF1   : int  706 978 486 216 655 732 1369 859 0 851 ...\n",
      " $ BsmtFinType2 : chr  \"Unf\" \"Unf\" \"Unf\" \"Unf\" ...\n",
      " $ BsmtFinSF2   : int  0 0 0 0 0 0 0 32 0 0 ...\n",
      " $ BsmtUnfSF    : int  150 284 434 540 490 64 317 216 952 140 ...\n",
      " $ TotalBsmtSF  : int  856 1262 920 756 1145 796 1686 1107 952 991 ...\n",
      " $ Heating      : chr  \"GasA\" \"GasA\" \"GasA\" \"GasA\" ...\n",
      " $ HeatingQC    : chr  \"Ex\" \"Ex\" \"Ex\" \"Gd\" ...\n",
      " $ CentralAir   : chr  \"Y\" \"Y\" \"Y\" \"Y\" ...\n",
      " $ Electrical   : chr  \"SBrkr\" \"SBrkr\" \"SBrkr\" \"SBrkr\" ...\n",
      " $ X1stFlrSF    : int  856 1262 920 961 1145 796 1694 1107 1022 1077 ...\n",
      " $ X2ndFlrSF    : int  854 0 866 756 1053 566 0 983 752 0 ...\n",
      " $ LowQualFinSF : int  0 0 0 0 0 0 0 0 0 0 ...\n",
      " $ GrLivArea    : int  1710 1262 1786 1717 2198 1362 1694 2090 1774 1077 ...\n",
      " $ BsmtFullBath : int  1 0 1 1 1 1 1 1 0 1 ...\n",
      " $ BsmtHalfBath : int  0 1 0 0 0 0 0 0 0 0 ...\n",
      " $ FullBath     : int  2 2 2 1 2 1 2 2 2 1 ...\n",
      " $ HalfBath     : int  1 0 1 0 1 1 0 1 0 0 ...\n",
      " $ BedroomAbvGr : int  3 3 3 3 4 1 3 3 2 2 ...\n",
      " $ KitchenAbvGr : int  1 1 1 1 1 1 1 1 2 2 ...\n",
      " $ KitchenQual  : chr  \"Gd\" \"TA\" \"Gd\" \"Gd\" ...\n",
      " $ TotRmsAbvGrd : int  8 6 6 7 9 5 7 7 8 5 ...\n",
      " $ Functional   : chr  \"Typ\" \"Typ\" \"Typ\" \"Typ\" ...\n",
      " $ Fireplaces   : int  0 1 1 1 1 0 1 2 2 2 ...\n",
      " $ FireplaceQu  : chr  NA \"TA\" \"TA\" \"Gd\" ...\n",
      " $ GarageType   : chr  \"Attchd\" \"Attchd\" \"Attchd\" \"Detchd\" ...\n",
      " $ GarageYrBlt  : int  2003 1976 2001 1998 2000 1993 2004 1973 1931 1939 ...\n",
      " $ GarageFinish : chr  \"RFn\" \"RFn\" \"RFn\" \"Unf\" ...\n",
      " $ GarageCars   : int  2 2 2 3 3 2 2 2 2 1 ...\n",
      " $ GarageArea   : int  548 460 608 642 836 480 636 484 468 205 ...\n",
      " $ GarageQual   : chr  \"TA\" \"TA\" \"TA\" \"TA\" ...\n",
      " $ GarageCond   : chr  \"TA\" \"TA\" \"TA\" \"TA\" ...\n",
      " $ PavedDrive   : chr  \"Y\" \"Y\" \"Y\" \"Y\" ...\n",
      " $ WoodDeckSF   : int  0 298 0 0 192 40 255 235 90 0 ...\n",
      " $ OpenPorchSF  : int  61 0 42 35 84 30 57 204 0 4 ...\n",
      " $ EnclosedPorch: int  0 0 0 272 0 0 0 228 205 0 ...\n",
      " $ X3SsnPorch   : int  0 0 0 0 0 320 0 0 0 0 ...\n",
      " $ ScreenPorch  : int  0 0 0 0 0 0 0 0 0 0 ...\n",
      " $ PoolArea     : int  0 0 0 0 0 0 0 0 0 0 ...\n",
      " $ PoolQC       : chr  NA NA NA NA ...\n",
      " $ Fence        : chr  NA NA NA NA ...\n",
      " $ MiscFeature  : chr  NA NA NA NA ...\n",
      " $ MiscVal      : int  0 0 0 0 0 700 0 350 0 0 ...\n",
      " $ MoSold       : int  2 5 9 2 12 10 8 11 4 1 ...\n",
      " $ YrSold       : int  2008 2007 2008 2006 2008 2009 2007 2009 2008 2008 ...\n",
      " $ SaleType     : chr  \"WD\" \"WD\" \"WD\" \"WD\" ...\n",
      " $ SaleCondition: chr  \"Normal\" \"Normal\" \"Normal\" \"Abnorml\" ...\n",
      " $ SalePrice    : int  208500 181500 223500 140000 250000 143000 307000 200000 129900 118000 ...\n"
     ]
    }
   ],
   "source": [
    "str(df_train)"
   ]
  },
  {
   "cell_type": "code",
   "execution_count": 68,
   "metadata": {},
   "outputs": [
    {
     "name": "stdout",
     "output_type": "stream",
     "text": [
      "[1] \"Id : 1460\"\n",
      "[1] \"MSSubClass : 15\"\n",
      "[1] \"MSZoning : 5\"\n",
      "[1] \"LotFrontage : 111\"\n",
      "[1] \"LotArea : 1073\"\n",
      "[1] \"Street : 2\"\n",
      "[1] \"Alley : 3\"\n",
      "[1] \"LotShape : 4\"\n",
      "[1] \"LandContour : 4\"\n",
      "[1] \"Utilities : 2\"\n",
      "[1] \"LotConfig : 5\"\n",
      "[1] \"LandSlope : 3\"\n",
      "[1] \"Neighborhood : 25\"\n",
      "[1] \"Condition1 : 9\"\n",
      "[1] \"Condition2 : 8\"\n",
      "[1] \"BldgType : 5\"\n",
      "[1] \"HouseStyle : 8\"\n",
      "[1] \"OverallQual : 10\"\n",
      "[1] \"OverallCond : 9\"\n",
      "[1] \"YearBuilt : 112\"\n",
      "[1] \"YearRemodAdd : 61\"\n",
      "[1] \"RoofStyle : 6\"\n",
      "[1] \"RoofMatl : 8\"\n",
      "[1] \"Exterior1st : 15\"\n",
      "[1] \"Exterior2nd : 16\"\n",
      "[1] \"MasVnrType : 5\"\n",
      "[1] \"MasVnrArea : 328\"\n",
      "[1] \"ExterQual : 4\"\n",
      "[1] \"ExterCond : 5\"\n",
      "[1] \"Foundation : 6\"\n",
      "[1] \"BsmtQual : 5\"\n",
      "[1] \"BsmtCond : 5\"\n",
      "[1] \"BsmtExposure : 5\"\n",
      "[1] \"BsmtFinType1 : 7\"\n",
      "[1] \"BsmtFinSF1 : 637\"\n",
      "[1] \"BsmtFinType2 : 7\"\n",
      "[1] \"BsmtFinSF2 : 144\"\n",
      "[1] \"BsmtUnfSF : 780\"\n",
      "[1] \"TotalBsmtSF : 721\"\n",
      "[1] \"Heating : 6\"\n",
      "[1] \"HeatingQC : 5\"\n",
      "[1] \"CentralAir : 2\"\n",
      "[1] \"Electrical : 6\"\n",
      "[1] \"X1stFlrSF : 753\"\n",
      "[1] \"X2ndFlrSF : 417\"\n",
      "[1] \"LowQualFinSF : 24\"\n",
      "[1] \"GrLivArea : 861\"\n",
      "[1] \"BsmtFullBath : 4\"\n",
      "[1] \"BsmtHalfBath : 3\"\n",
      "[1] \"FullBath : 4\"\n",
      "[1] \"HalfBath : 3\"\n",
      "[1] \"BedroomAbvGr : 8\"\n",
      "[1] \"KitchenAbvGr : 4\"\n",
      "[1] \"KitchenQual : 4\"\n",
      "[1] \"TotRmsAbvGrd : 12\"\n",
      "[1] \"Functional : 7\"\n",
      "[1] \"Fireplaces : 4\"\n",
      "[1] \"FireplaceQu : 6\"\n",
      "[1] \"GarageType : 7\"\n",
      "[1] \"GarageYrBlt : 98\"\n",
      "[1] \"GarageFinish : 4\"\n",
      "[1] \"GarageCars : 5\"\n",
      "[1] \"GarageArea : 441\"\n",
      "[1] \"GarageQual : 6\"\n",
      "[1] \"GarageCond : 6\"\n",
      "[1] \"PavedDrive : 3\"\n",
      "[1] \"WoodDeckSF : 274\"\n",
      "[1] \"OpenPorchSF : 202\"\n",
      "[1] \"EnclosedPorch : 120\"\n",
      "[1] \"X3SsnPorch : 20\"\n",
      "[1] \"ScreenPorch : 76\"\n",
      "[1] \"PoolArea : 8\"\n",
      "[1] \"PoolQC : 4\"\n",
      "[1] \"Fence : 5\"\n",
      "[1] \"MiscFeature : 5\"\n",
      "[1] \"MiscVal : 21\"\n",
      "[1] \"MoSold : 12\"\n",
      "[1] \"YrSold : 5\"\n",
      "[1] \"SaleType : 9\"\n",
      "[1] \"SaleCondition : 6\"\n",
      "[1] \"SalePrice : 663\"\n"
     ]
    }
   ],
   "source": [
    "# unique value counts per column\n",
    "for(col in names(df_train)){\n",
    "    unique_values <- length(unique(df_train[,col]))\n",
    "    print(paste(col,\":\", unique_values))\n",
    "}"
   ]
  },
  {
   "cell_type": "code",
   "execution_count": 69,
   "metadata": {},
   "outputs": [
    {
     "name": "stdout",
     "output_type": "stream",
     "text": [
      "MSZoning : RL RM C (all) FV RHNULL\n",
      "Street : Pave GrvlNULL\n",
      "Alley : NA Grvl PaveNULL\n",
      "LotShape : Reg IR1 IR2 IR3NULL\n",
      "LandContour : Lvl Bnk Low HLSNULL\n",
      "Utilities : AllPub NoSeWaNULL\n",
      "LotConfig : Inside FR2 Corner CulDSac FR3NULL\n",
      "LandSlope : Gtl Mod SevNULL\n",
      "Neighborhood : CollgCr Veenker Crawfor NoRidge Mitchel Somerst NWAmes OldTown BrkSide Sawyer NridgHt NAmes SawyerW IDOTRR MeadowV Edwards Timber Gilbert StoneBr ClearCr NPkVill Blmngtn BrDale SWISU BluesteNULL\n",
      "Condition1 : Norm Feedr PosN Artery RRAe RRNn RRAn PosA RRNeNULL\n",
      "Condition2 : Norm Artery RRNn Feedr PosN PosA RRAn RRAeNULL\n",
      "BldgType : 1Fam 2fmCon Duplex TwnhsE TwnhsNULL\n",
      "HouseStyle : 2Story 1Story 1.5Fin 1.5Unf SFoyer SLvl 2.5Unf 2.5FinNULL\n",
      "RoofStyle : Gable Hip Gambrel Mansard Flat ShedNULL\n",
      "RoofMatl : CompShg WdShngl Metal WdShake Membran Tar&Grv Roll ClyTileNULL\n",
      "Exterior1st : VinylSd MetalSd Wd Sdng HdBoard BrkFace WdShing CemntBd Plywood AsbShng Stucco BrkComm AsphShn Stone ImStucc CBlockNULL\n",
      "Exterior2nd : VinylSd MetalSd Wd Shng HdBoard Plywood Wd Sdng CmentBd BrkFace Stucco AsbShng Brk Cmn ImStucc AsphShn Stone Other CBlockNULL\n",
      "MasVnrType : BrkFace None Stone BrkCmn NANULL\n",
      "ExterQual : Gd TA Ex FaNULL\n",
      "ExterCond : TA Gd Fa Po ExNULL\n",
      "Foundation : PConc CBlock BrkTil Wood Slab StoneNULL\n",
      "BsmtQual : Gd TA Ex NA FaNULL\n",
      "BsmtCond : TA Gd NA Fa PoNULL\n",
      "BsmtExposure : No Gd Mn Av NANULL\n",
      "BsmtFinType1 : GLQ ALQ Unf Rec BLQ NA LwQNULL\n",
      "BsmtFinType2 : Unf BLQ NA ALQ Rec LwQ GLQNULL\n",
      "Heating : GasA GasW Grav Wall OthW FloorNULL\n",
      "HeatingQC : Ex Gd TA Fa PoNULL\n",
      "CentralAir : Y NNULL\n",
      "Electrical : SBrkr FuseF FuseA FuseP Mix NANULL\n",
      "KitchenQual : Gd TA Ex FaNULL\n",
      "Functional : Typ Min1 Maj1 Min2 Mod Maj2 SevNULL\n",
      "FireplaceQu : NA TA Gd Fa Ex PoNULL\n",
      "GarageType : Attchd Detchd BuiltIn CarPort NA Basment 2TypesNULL\n",
      "GarageFinish : RFn Unf Fin NANULL\n",
      "GarageQual : TA Fa Gd NA Ex PoNULL\n",
      "GarageCond : TA Fa NA Gd Po ExNULL\n",
      "PavedDrive : Y N PNULL\n",
      "PoolQC : NA Ex Fa GdNULL\n",
      "Fence : NA MnPrv GdWo GdPrv MnWwNULL\n",
      "MiscFeature : NA Shed Gar2 Othr TenCNULL\n",
      "SaleType : WD New COD ConLD ConLI CWD ConLw Con OthNULL\n",
      "SaleCondition : Normal Abnorml Partial AdjLand Alloca FamilyNULL\n"
     ]
    }
   ],
   "source": [
    "# Function to display unique values of factor columns\n",
    "display_unique_values <- function(df) {\n",
    "  # Loop through each column of the dataframe\n",
    "  for (col_name in names(df)) {\n",
    "    # Check if the column is a factor\n",
    "    if (is.character(df[, col_name])) {\n",
    "        unique_values <- unique(df[, col_name])\n",
    "        print(cat(col_name, \":\", unique_values))\n",
    "    }\n",
    "  }\n",
    "}\n",
    "\n",
    "display_unique_values(df_train)"
   ]
  },
  {
   "cell_type": "markdown",
   "metadata": {},
   "source": [
    "##### Correlation Heatmap"
   ]
  },
  {
   "cell_type": "code",
   "execution_count": 56,
   "metadata": {},
   "outputs": [],
   "source": [
    "# df_train_numeric <- df_train_rm %>% select_if(is.numeric)\n",
    "# \n",
    "# # calculate the correlation coeeficients\n",
    "# correlation_matrix <- cor(df_train_numeric)\n",
    "# \n",
    "# #melt the data frame\n",
    "# library(reshape2)\n",
    "# melted_cor <- melt(correlation_matrix)\n",
    "# \n",
    "# library(corrplot)\n",
    "# corrplot(correlation_matrix)# "
   ]
  },
  {
   "cell_type": "markdown",
   "metadata": {},
   "source": [
    "### Feature Engineering"
   ]
  },
  {
   "cell_type": "code",
   "execution_count": 70,
   "metadata": {},
   "outputs": [],
   "source": [
    "# drop the columns having over 80% na values\n",
    "library(dplyr)\n",
    "df_train <- dplyr::select(df_train, -c(\"Fence\", \"Alley\", , \"MiscFeature\", \"PoolQC\"))"
   ]
  },
  {
   "cell_type": "markdown",
   "metadata": {},
   "source": [
    "Removing rows where Target Variable is missing"
   ]
  },
  {
   "cell_type": "code",
   "execution_count": 71,
   "metadata": {},
   "outputs": [],
   "source": [
    "target <- \"SalePrice\"\n",
    "df_train <- df_train[complete.cases(df_train[target]), ]"
   ]
  },
  {
   "cell_type": "code",
   "execution_count": 72,
   "metadata": {},
   "outputs": [],
   "source": [
    "# Removed 'ID' as it is not interesting since it is unique\n",
    "df_train <- dplyr::select(df_train, -c(\"Id\"))"
   ]
  },
  {
   "cell_type": "code",
   "execution_count": 78,
   "metadata": {},
   "outputs": [
    {
     "data": {
      "text/html": [
       "<style>\n",
       ".list-inline {list-style: none; margin:0; padding: 0}\n",
       ".list-inline>li {display: inline-block}\n",
       ".list-inline>li:not(:last-child)::after {content: \"\\00b7\"; padding: 0 .5ex}\n",
       "</style>\n",
       "<ol class=list-inline><li>1459</li><li>80</li></ol>\n"
      ],
      "text/latex": [
       "\\begin{enumerate*}\n",
       "\\item 1459\n",
       "\\item 80\n",
       "\\end{enumerate*}\n"
      ],
      "text/markdown": [
       "1. 1459\n",
       "2. 80\n",
       "\n",
       "\n"
      ],
      "text/plain": [
       "[1] 1459   80"
      ]
     },
     "metadata": {},
     "output_type": "display_data"
    }
   ],
   "source": [
    "dim(df_test)"
   ]
  },
  {
   "cell_type": "code",
   "execution_count": 110,
   "metadata": {},
   "outputs": [],
   "source": [
    "#replace NA values in all numeric columns with their respective medians\n",
    "fill_with_median <- function(x) {\n",
    "  median_x <- median(x, na.rm = TRUE)\n",
    "  ifelse(is.na(x), median_x, x)\n",
    "}\n",
    "\n",
    "df_train[sapply(df_train, is.numeric)] <- lapply(df_train[sapply(df_train, is.numeric)], fill_with_median)"
   ]
  },
  {
   "cell_type": "code",
   "execution_count": 114,
   "metadata": {},
   "outputs": [
    {
     "ename": "ERROR",
     "evalue": "Error in df[sapply(df, is.character)]: object of type 'closure' is not subsettable\n",
     "output_type": "error",
     "traceback": [
      "Error in df[sapply(df, is.character)]: object of type 'closure' is not subsettable\nTraceback:\n",
      "1. data.frame(lapply(df[sapply(df, is.character)], fill_with_missing))",
      "2. lapply(df[sapply(df, is.character)], fill_with_missing)"
     ]
    }
   ],
   "source": [
    "#replace NA values in all categorical columns with \"Missing\"\n",
    "fill_with_missing <- function(x) {\n",
    "  list(ifelse(is.na(x), \"Missing\", x))\n",
    "}\n",
    "\n",
    "df[sapply(df, is.character)] <- data.frame(lapply(df[sapply(df, is.character)], fill_with_missing))\n"
   ]
  },
  {
   "cell_type": "code",
   "execution_count": 98,
   "metadata": {},
   "outputs": [
    {
     "data": {
      "text/html": [
       "76"
      ],
      "text/latex": [
       "76"
      ],
      "text/markdown": [
       "76"
      ],
      "text/plain": [
       "[1] 76"
      ]
     },
     "metadata": {},
     "output_type": "display_data"
    }
   ],
   "source": [
    "ncol(df_train)"
   ]
  },
  {
   "cell_type": "code",
   "execution_count": 86,
   "metadata": {},
   "outputs": [
    {
     "name": "stdout",
     "output_type": "stream",
     "text": [
      "MSZoning : RL RM C (all) FV RHNULL\n",
      "Street : Pave GrvlNULL\n",
      "LotShape : Reg IR1 IR2 IR3NULL\n",
      "LandContour : Lvl Bnk Low HLSNULL\n",
      "Utilities : AllPub NoSeWaNULL\n",
      "LotConfig : Inside FR2 Corner CulDSac FR3NULL\n",
      "LandSlope : Gtl Mod SevNULL\n",
      "Neighborhood : CollgCr Veenker Crawfor NoRidge Mitchel Somerst NWAmes OldTown BrkSide Sawyer NridgHt NAmes SawyerW IDOTRR MeadowV Edwards Timber Gilbert StoneBr ClearCr NPkVill Blmngtn BrDale SWISU BluesteNULL\n",
      "Condition1 : Norm Feedr PosN Artery RRAe RRNn RRAn PosA RRNeNULL\n",
      "Condition2 : Norm Artery RRNn Feedr PosN PosA RRAn RRAeNULL\n",
      "BldgType : 1Fam 2fmCon Duplex TwnhsE TwnhsNULL\n",
      "HouseStyle : 2Story 1Story 1.5Fin 1.5Unf SFoyer SLvl 2.5Unf 2.5FinNULL\n",
      "RoofStyle : Gable Hip Gambrel Mansard Flat ShedNULL\n",
      "RoofMatl : CompShg WdShngl Metal WdShake Membran Tar&Grv Roll ClyTileNULL\n",
      "Exterior1st : VinylSd MetalSd Wd Sdng HdBoard BrkFace WdShing CemntBd Plywood AsbShng Stucco BrkComm AsphShn Stone ImStucc CBlockNULL\n",
      "Exterior2nd : VinylSd MetalSd Wd Shng HdBoard Plywood Wd Sdng CmentBd BrkFace Stucco AsbShng Brk Cmn ImStucc AsphShn Stone Other CBlockNULL\n",
      "MasVnrType : BrkFace None Stone BrkCmn NANULL\n",
      "ExterQual : Gd TA Ex FaNULL\n",
      "ExterCond : TA Gd Fa Po ExNULL\n",
      "Foundation : PConc CBlock BrkTil Wood Slab StoneNULL\n",
      "BsmtQual : Gd TA Ex NA FaNULL\n",
      "BsmtCond : TA Gd NA Fa PoNULL\n",
      "BsmtExposure : No Gd Mn Av NANULL\n",
      "BsmtFinType1 : GLQ ALQ Unf Rec BLQ NA LwQNULL\n",
      "BsmtFinType2 : Unf BLQ NA ALQ Rec LwQ GLQNULL\n",
      "Heating : GasA GasW Grav Wall OthW FloorNULL\n",
      "HeatingQC : Ex Gd TA Fa PoNULL\n",
      "CentralAir : Y NNULL\n",
      "Electrical : SBrkr FuseF FuseA FuseP Mix NANULL\n",
      "KitchenQual : Gd TA Ex FaNULL\n",
      "Functional : Typ Min1 Maj1 Min2 Mod Maj2 SevNULL\n",
      "FireplaceQu : NA TA Gd Fa Ex PoNULL\n",
      "GarageType : Attchd Detchd BuiltIn CarPort NA Basment 2TypesNULL\n",
      "GarageFinish : RFn Unf Fin NANULL\n",
      "GarageQual : TA Fa Gd NA Ex PoNULL\n",
      "GarageCond : TA Fa NA Gd Po ExNULL\n",
      "PavedDrive : Y N PNULL\n",
      "SaleType : WD New COD ConLD ConLI CWD ConLw Con OthNULL\n",
      "SaleCondition : Normal Abnorml Partial AdjLand Alloca FamilyNULL\n"
     ]
    }
   ],
   "source": [
    "# Function to display unique values of factor columns\n",
    "display_unique_values <- function(df) {\n",
    "  # Loop through each column of the dataframe\n",
    "  for (col_name in names(df)) {\n",
    "    # Check if the column is a factor\n",
    "    if (is.character(df[, col_name])) {\n",
    "        unique_values <- unique(df[, col_name])\n",
    "        print(cat(col_name, \":\", unique_values))\n",
    "    }\n",
    "  }\n",
    "}\n",
    "\n",
    "display_unique_values(df_train_clean)"
   ]
  },
  {
   "cell_type": "code",
   "execution_count": null,
   "metadata": {},
   "outputs": [],
   "source": []
  }
 ],
 "metadata": {
  "kernelspec": {
   "display_name": "R",
   "language": "R",
   "name": "ir"
  },
  "language_info": {
   "codemirror_mode": "r",
   "file_extension": ".r",
   "mimetype": "text/x-r-source",
   "name": "R",
   "pygments_lexer": "r",
   "version": "4.1.2"
  }
 },
 "nbformat": 4,
 "nbformat_minor": 4
}
